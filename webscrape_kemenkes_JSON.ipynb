{
 "cells": [
  {
   "cell_type": "code",
   "execution_count": 1,
   "id": "c11234b6",
   "metadata": {},
   "outputs": [
    {
     "name": "stdout",
     "output_type": "stream",
     "text": [
      "Collecting selenium\n",
      "  Downloading selenium-4.1.3-py3-none-any.whl (968 kB)\n",
      "     -------------------------------------- 968.8/968.8 KB 3.8 MB/s eta 0:00:00\n",
      "Collecting trio~=0.17\n",
      "  Downloading trio-0.20.0-py3-none-any.whl (359 kB)\n",
      "     -------------------------------------- 359.0/359.0 KB 4.5 MB/s eta 0:00:00\n",
      "Requirement already satisfied: urllib3[secure,socks]~=1.26 in c:\\users\\user\\appdata\\local\\programs\\python\\python310\\lib\\site-packages (from selenium) (1.26.8)\n",
      "Collecting trio-websocket~=0.9\n",
      "  Using cached trio_websocket-0.9.2-py3-none-any.whl (16 kB)\n",
      "Collecting cffi>=1.14\n",
      "  Downloading cffi-1.15.0-cp310-cp310-win_amd64.whl (180 kB)\n",
      "     -------------------------------------- 180.3/180.3 KB 3.7 MB/s eta 0:00:00\n",
      "Collecting outcome\n",
      "  Using cached outcome-1.1.0-py2.py3-none-any.whl (9.7 kB)\n",
      "Requirement already satisfied: attrs>=19.2.0 in c:\\users\\user\\appdata\\local\\programs\\python\\python310\\lib\\site-packages (from trio~=0.17->selenium) (21.4.0)\n",
      "Requirement already satisfied: idna in c:\\users\\user\\appdata\\local\\programs\\python\\python310\\lib\\site-packages (from trio~=0.17->selenium) (3.3)\n",
      "Collecting async-generator>=1.9\n",
      "  Downloading async_generator-1.10-py3-none-any.whl (18 kB)\n",
      "Collecting sniffio\n",
      "  Downloading sniffio-1.2.0-py3-none-any.whl (10 kB)\n",
      "Collecting sortedcontainers\n",
      "  Downloading sortedcontainers-2.4.0-py2.py3-none-any.whl (29 kB)\n",
      "Collecting wsproto>=0.14\n",
      "  Downloading wsproto-1.1.0-py3-none-any.whl (24 kB)\n",
      "Collecting cryptography>=1.3.4\n",
      "  Downloading cryptography-36.0.2-cp36-abi3-win_amd64.whl (2.2 MB)\n",
      "     ---------------------------------------- 2.2/2.2 MB 5.1 MB/s eta 0:00:00\n",
      "Requirement already satisfied: certifi in c:\\users\\user\\appdata\\local\\programs\\python\\python310\\lib\\site-packages (from urllib3[secure,socks]~=1.26->selenium) (2021.10.8)\n",
      "Collecting pyOpenSSL>=0.14\n",
      "  Downloading pyOpenSSL-22.0.0-py2.py3-none-any.whl (55 kB)\n",
      "     ---------------------------------------- 55.8/55.8 KB 3.0 MB/s eta 0:00:00\n",
      "Collecting PySocks!=1.5.7,<2.0,>=1.5.6\n",
      "  Downloading PySocks-1.7.1-py3-none-any.whl (16 kB)\n",
      "Collecting pycparser\n",
      "  Downloading pycparser-2.21-py2.py3-none-any.whl (118 kB)\n",
      "     -------------------------------------- 118.7/118.7 KB 3.5 MB/s eta 0:00:00\n",
      "Collecting h11<1,>=0.9.0\n",
      "  Downloading h11-0.13.0-py3-none-any.whl (58 kB)\n",
      "     ---------------------------------------- 58.2/58.2 KB 3.2 MB/s eta 0:00:00\n",
      "Installing collected packages: sortedcontainers, sniffio, PySocks, pycparser, outcome, h11, async-generator, wsproto, cffi, trio, cryptography, trio-websocket, pyOpenSSL, selenium\n",
      "Successfully installed PySocks-1.7.1 async-generator-1.10 cffi-1.15.0 cryptography-36.0.2 h11-0.13.0 outcome-1.1.0 pyOpenSSL-22.0.0 pycparser-2.21 selenium-4.1.3 sniffio-1.2.0 sortedcontainers-2.4.0 trio-0.20.0 trio-websocket-0.9.2 wsproto-1.1.0\n"
     ]
    }
   ],
   "source": [
    "!pip install selenium"
   ]
  },
  {
   "cell_type": "code",
   "execution_count": 3,
   "id": "ae6cfab5",
   "metadata": {},
   "outputs": [
    {
     "name": "stdout",
     "output_type": "stream",
     "text": [
      "Collecting beautifulsoup4\n",
      "  Downloading beautifulsoup4-4.11.1-py3-none-any.whl (128 kB)\n",
      "     -------------------------------------- 128.2/128.2 KB 1.9 MB/s eta 0:00:00\n",
      "Collecting soupsieve>1.2\n",
      "  Downloading soupsieve-2.3.2.post1-py3-none-any.whl (37 kB)\n",
      "Installing collected packages: soupsieve, beautifulsoup4\n",
      "Successfully installed beautifulsoup4-4.11.1 soupsieve-2.3.2.post1\n",
      "Note: you may need to restart the kernel to use updated packages.\n"
     ]
    }
   ],
   "source": [
    "!pip install beautifulsoup4"
   ]
  },
  {
   "cell_type": "code",
   "execution_count": 4,
   "id": "9c9d3bf1",
   "metadata": {},
   "outputs": [],
   "source": [
    "import pandas as pd\n",
    "import numpy as np\n",
    "import requests\n",
    "from selenium import webdriver\n",
    "from bs4 import BeautifulSoup"
   ]
  },
  {
   "cell_type": "code",
   "execution_count": 5,
   "id": "efc768b6",
   "metadata": {},
   "outputs": [],
   "source": [
    "url = 'http://sirs.yankes.kemkes.go.id/fo/json/datars.php'\n",
    "page = requests.get(url)\n",
    "\n",
    "soup = BeautifulSoup(page.content,'html.parser')\n",
    "# print(soup.text)"
   ]
  },
  {
   "cell_type": "code",
   "execution_count": 6,
   "id": "bd08ba12",
   "metadata": {},
   "outputs": [
    {
     "data": {
      "text/plain": [
       "<_io.StringIO at 0x1f1f7685750>"
      ]
     },
     "execution_count": 6,
     "metadata": {},
     "output_type": "execute_result"
    }
   ],
   "source": [
    "from io import StringIO\n",
    "StringIO(soup.txt)"
   ]
  },
  {
   "cell_type": "code",
   "execution_count": 7,
   "id": "fd0187f0",
   "metadata": {},
   "outputs": [
    {
     "data": {
      "text/html": [
       "<div>\n",
       "<style scoped>\n",
       "    .dataframe tbody tr th:only-of-type {\n",
       "        vertical-align: middle;\n",
       "    }\n",
       "\n",
       "    .dataframe tbody tr th {\n",
       "        vertical-align: top;\n",
       "    }\n",
       "\n",
       "    .dataframe thead th {\n",
       "        text-align: right;\n",
       "    }\n",
       "</style>\n",
       "<table border=\"1\" class=\"dataframe\">\n",
       "  <thead>\n",
       "    <tr style=\"text-align: right;\">\n",
       "      <th></th>\n",
       "      <th>kode_prop</th>\n",
       "      <th>nama_prop</th>\n",
       "      <th>kode_rs</th>\n",
       "      <th>nama_rs</th>\n",
       "      <th>kelas</th>\n",
       "      <th>jenis_rs</th>\n",
       "      <th>pemilik</th>\n",
       "      <th>vvip</th>\n",
       "      <th>vip</th>\n",
       "      <th>kls1</th>\n",
       "      <th>kls2</th>\n",
       "      <th>kls3</th>\n",
       "      <th>status_update</th>\n",
       "      <th>tahun</th>\n",
       "    </tr>\n",
       "  </thead>\n",
       "  <tbody>\n",
       "    <tr>\n",
       "      <th>0</th>\n",
       "      <td>ID.AC</td>\n",
       "      <td>ACEH</td>\n",
       "      <td>1171015</td>\n",
       "      <td>RS Umum Daerah  Dr. Zainoel Abidin</td>\n",
       "      <td>A</td>\n",
       "      <td>RSU</td>\n",
       "      <td>Pemprop</td>\n",
       "      <td>2.0</td>\n",
       "      <td>76.0</td>\n",
       "      <td>79.0</td>\n",
       "      <td>120.0</td>\n",
       "      <td>347.0</td>\n",
       "      <td>1</td>\n",
       "      <td>2019</td>\n",
       "    </tr>\n",
       "    <tr>\n",
       "      <th>1</th>\n",
       "      <td>ID.AC</td>\n",
       "      <td>ACEH</td>\n",
       "      <td>1171041</td>\n",
       "      <td>RS Jiwa Aceh</td>\n",
       "      <td>A</td>\n",
       "      <td>RSK Jiwa</td>\n",
       "      <td>Pemprop</td>\n",
       "      <td>NaN</td>\n",
       "      <td>NaN</td>\n",
       "      <td>4.0</td>\n",
       "      <td>9.0</td>\n",
       "      <td>341.0</td>\n",
       "      <td>1</td>\n",
       "      <td>2019</td>\n",
       "    </tr>\n",
       "    <tr>\n",
       "      <th>2</th>\n",
       "      <td>ID.SU</td>\n",
       "      <td>SUMATERA UTARA</td>\n",
       "      <td>1275221</td>\n",
       "      <td>RS Jiwa Prof. Dr. Muhammad Ildrem</td>\n",
       "      <td>A</td>\n",
       "      <td>RSK Jiwa</td>\n",
       "      <td>Pemprop</td>\n",
       "      <td>NaN</td>\n",
       "      <td>NaN</td>\n",
       "      <td>26.0</td>\n",
       "      <td>74.0</td>\n",
       "      <td>350.0</td>\n",
       "      <td>1</td>\n",
       "      <td>2019</td>\n",
       "    </tr>\n",
       "    <tr>\n",
       "      <th>3</th>\n",
       "      <td>ID.SU</td>\n",
       "      <td>SUMATERA UTARA</td>\n",
       "      <td>1275655</td>\n",
       "      <td>RSUP H. Adam Malik</td>\n",
       "      <td>A</td>\n",
       "      <td>RSU</td>\n",
       "      <td>Kemkes</td>\n",
       "      <td>29.0</td>\n",
       "      <td>NaN</td>\n",
       "      <td>166.0</td>\n",
       "      <td>123.0</td>\n",
       "      <td>360.0</td>\n",
       "      <td>1</td>\n",
       "      <td>2019</td>\n",
       "    </tr>\n",
       "    <tr>\n",
       "      <th>4</th>\n",
       "      <td>ID.SB</td>\n",
       "      <td>SUMATERA BARAT</td>\n",
       "      <td>1371010</td>\n",
       "      <td>RSUP Dr. M. Djamil</td>\n",
       "      <td>A</td>\n",
       "      <td>RSU</td>\n",
       "      <td>Kemkes</td>\n",
       "      <td>4.0</td>\n",
       "      <td>32.0</td>\n",
       "      <td>117.0</td>\n",
       "      <td>88.0</td>\n",
       "      <td>385.0</td>\n",
       "      <td>1</td>\n",
       "      <td>2019</td>\n",
       "    </tr>\n",
       "  </tbody>\n",
       "</table>\n",
       "</div>"
      ],
      "text/plain": [
       "  kode_prop       nama_prop  kode_rs                             nama_rs  \\\n",
       "0     ID.AC            ACEH  1171015  RS Umum Daerah  Dr. Zainoel Abidin   \n",
       "1     ID.AC            ACEH  1171041                        RS Jiwa Aceh   \n",
       "2     ID.SU  SUMATERA UTARA  1275221   RS Jiwa Prof. Dr. Muhammad Ildrem   \n",
       "3     ID.SU  SUMATERA UTARA  1275655                  RSUP H. Adam Malik   \n",
       "4     ID.SB  SUMATERA BARAT  1371010                  RSUP Dr. M. Djamil   \n",
       "\n",
       "  kelas  jenis_rs  pemilik  vvip   vip   kls1   kls2   kls3  status_update  \\\n",
       "0     A       RSU  Pemprop   2.0  76.0   79.0  120.0  347.0              1   \n",
       "1     A  RSK Jiwa  Pemprop   NaN   NaN    4.0    9.0  341.0              1   \n",
       "2     A  RSK Jiwa  Pemprop   NaN   NaN   26.0   74.0  350.0              1   \n",
       "3     A       RSU  Kemkes   29.0   NaN  166.0  123.0  360.0              1   \n",
       "4     A       RSU  Kemkes    4.0  32.0  117.0   88.0  385.0              1   \n",
       "\n",
       "   tahun  \n",
       "0   2019  \n",
       "1   2019  \n",
       "2   2019  \n",
       "3   2019  \n",
       "4   2019  "
      ]
     },
     "execution_count": 7,
     "metadata": {},
     "output_type": "execute_result"
    }
   ],
   "source": [
    "kemenkes = pd.read_table(StringIO(soup.text), sep='\\t')\n",
    "kemenkes.head(5)"
   ]
  }
 ],
 "metadata": {
  "kernelspec": {
   "display_name": "Python 3",
   "language": "python",
   "name": "python3"
  },
  "language_info": {
   "codemirror_mode": {
    "name": "ipython",
    "version": 3
   },
   "file_extension": ".py",
   "mimetype": "text/x-python",
   "name": "python",
   "nbconvert_exporter": "python",
   "pygments_lexer": "ipython3",
   "version": "3.10.1"
  }
 },
 "nbformat": 4,
 "nbformat_minor": 5
}
